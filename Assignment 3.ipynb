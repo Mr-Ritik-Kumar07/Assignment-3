{
 "cells": [
  {
   "cell_type": "markdown",
   "id": "e9f45ac5-eda6-447b-ac06-4cc9ad701b01",
   "metadata": {},
   "source": [
    "1. Why are functions advantageous to have in your programs?"
   ]
  },
  {
   "cell_type": "markdown",
   "id": "cc7f467f-8045-43dd-9d94-32d0a9f05b92",
   "metadata": {},
   "source": [
    "1.Code Reusability\n",
    "\n",
    "Functions allow you to write code once and use it multiple times.\n",
    "\n",
    "You don’t need to rewrite the same logic again and again.\n",
    "2.Modularity\n",
    "\n",
    "Functions break the program into smaller, manageable parts.\n",
    "\n",
    "Each function does a specific task, making code organized and clean.\n",
    "\n",
    "3.Easy Debugging and Testing\n",
    "\n",
    "If there’s a bug, you can easily test and fix individual functions.\n",
    "\n",
    "It’s easier to isolate problems.\n",
    "\n",
    "4.Improves Readability\n",
    "\n",
    "Function names describe what the block of code does.\n",
    "\n",
    "Makes it easier for others (or yourself) to understand later.\n",
    "\n",
    "5.Avoids Repetition (DRY Principle)\n",
    "\n",
    "DRY = Don’t Repeat Yourself.\n",
    "\n",
    "Helps keep code short and simple.\n",
    "\n",
    "6.Makes Large Programs Manageable\n",
    "\n",
    "In large projects, functions divide responsibilities.\n",
    "\n",
    "Multiple developers can work on different functions."
   ]
  },
  {
   "cell_type": "markdown",
   "id": "9d20e9e7-cfb7-4197-b195-f79f9a51a059",
   "metadata": {},
   "source": [
    "2. When does the code in a function run: when it's specified or when it's called?"
   ]
  },
  {
   "cell_type": "code",
   "execution_count": null,
   "id": "8341c715-e07a-425d-a825-b20beb2ecd9a",
   "metadata": {},
   "outputs": [],
   "source": [
    "The code in a function runs only when the function is called, not when it is defined."
   ]
  },
  {
   "cell_type": "markdown",
   "id": "1a67386e-a1dd-4ca5-9bed-096066b4d463",
   "metadata": {},
   "source": [
    "3. What statement creates a function?"
   ]
  },
  {
   "cell_type": "code",
   "execution_count": 1,
   "id": "b4bed679-462b-44ed-8b9d-726db7cb753b",
   "metadata": {},
   "outputs": [],
   "source": [
    "#The def statement is used to create a function in Python.\n",
    "def greet():\n",
    "    print(\"Hello, welcome!\")\n"
   ]
  },
  {
   "cell_type": "markdown",
   "id": "78773b9e-a767-4189-b3a1-b90225d6bf5c",
   "metadata": {},
   "source": [
    "4. What is the difference between a function and a function call?"
   ]
  },
  {
   "cell_type": "code",
   "execution_count": null,
   "id": "6b7e64a5-a3f4-4b60-8ada-608c55be3250",
   "metadata": {},
   "outputs": [],
   "source": [
    "| Concept       | Description                  | Example        |\n",
    "| ------------- | ---------------------------- | -------------- |\n",
    "| Function      | Code block you define        | `def greet():` |\n",
    "| Function Call | Executes the function's code | `greet()`      |"
   ]
  },
  {
   "cell_type": "markdown",
   "id": "bc3d7893-ca8f-4294-bb02-09d50b6c2dff",
   "metadata": {},
   "source": [
    "5. How many global scopes are there in a Python program? How many local scopes?"
   ]
  },
  {
   "cell_type": "code",
   "execution_count": null,
   "id": "03164ff6-b9a0-4ccd-b3df-822bca4deda1",
   "metadata": {},
   "outputs": [],
   "source": [
    "Global Scope:\n",
    "There is only one global scope in a Python program.\n",
    "It is created when the program starts and lasts until the program ends.\n",
    "Variables defined outside all functions are in the global scope\n",
    "x = 10  # global scope\n",
    "\n",
    "Local Scope:\n",
    "A new local scope is created every time a function is called.\n",
    "Variables defined inside a function belong to that function’s local scope.\n",
    "def show():\n",
    "    y = 5  # local scope\n",
    "    print(y)\n",
    "\n",
    "| Scope Type   | Count                     | Example            |\n",
    "| ------------ | ------------------------- | ------------------ |\n",
    "| Global Scope | Only **one** per program  | `x = 10`           |\n",
    "| Local Scope  | One **per function call** | `def fun(): y = 5` |\n"
   ]
  },
  {
   "cell_type": "markdown",
   "id": "c11f2889-8501-479a-8365-a5c355481a9e",
   "metadata": {},
   "source": [
    "6. What happens to variables in a local scope when the function call returns?"
   ]
  },
  {
   "cell_type": "code",
   "execution_count": null,
   "id": "3e3659fb-aa16-4887-a932-b69865c30a36",
   "metadata": {},
   "outputs": [],
   "source": [
    "When a function call returns (ends), all the variables in its local scope are destroyed.\n",
    "#Step-by-Step Explanation:\n",
    "Local variables exist only while the function is running.\n",
    "When the function is called, a local scope is created.\n",
    "Local variables are created inside this scope.\n",
    "After the function ends (returns), the local scope is deleted.\n",
    "That means all local variables vanish from memory.\n",
    "They are not accessible outside the function.\n",
    "\n",
    "Example:\n",
    "def show():\n",
    "    x = 10  # x is a local variable\n",
    "    print(x)\n",
    "\n",
    "show()\n",
    "print(x)  # Error! x is not defined outside the function\n",
    "This will raise an error: NameError: name 'x' is not defined"
   ]
  },
  {
   "cell_type": "markdown",
   "id": "ec1448fa-2030-4bad-aa47-8fc47ce5cfdc",
   "metadata": {},
   "source": [
    "7. What is the concept of a return value? Is it possible to have a return value in an expression?"
   ]
  },
  {
   "cell_type": "code",
   "execution_count": null,
   "id": "3775b518-7a6b-4ddf-a7db-fcec6909cbfc",
   "metadata": {},
   "outputs": [],
   "source": [
    "A return value is the output that a function sends back to the caller using the return statement.\n",
    "\n",
    "It allows a function to provide a result.\n",
    "def add(a, b):\n",
    "    return a + b\n",
    "\n",
    "result = add(3, 4)  # return value is 7\n",
    "print(result)       # Output: 7\n",
    "🔹 The function add() returns the value 7.\n",
    "🔹 That return value is stored in result.\n",
    "A return value is the output that a function sends back to the caller using the return statement.\n",
    "\n",
    "It allows a function to provide a result.\n",
    "def add(a, b):\n",
    "    return a + b\n",
    "\n",
    "result = add(3, 4)  # return value is 7\n",
    "print(result)       # Output: 7\n",
    "🔹 The function add() returns the value 7.\n",
    "🔹 That return value is stored in result.\n",
    "| Concept            | Meaning                                         | Example        |\n",
    "| ------------------ | ----------------------------------------------- | -------------- |\n",
    "| Return Value       | Output sent back by a function                  | `return a + b` |\n",
    "| Used in Expression | Yes, can be used inside expressions or formulas | `add(2,3) + 5` |"
   ]
  },
  {
   "cell_type": "markdown",
   "id": "38dbaa42-c1f7-412a-afa8-cb9e5a5e1dcc",
   "metadata": {},
   "source": [
    "8. If a function does not have a return statement, what is the return value of a call to that function"
   ]
  },
  {
   "cell_type": "code",
   "execution_count": null,
   "id": "0869ab84-171e-446c-aae2-04d9365ce3e5",
   "metadata": {},
   "outputs": [],
   "source": [
    "If a function does not have a return statement, then the function returns None by default.\n",
    "def greet():\n",
    "    print(\"Hello!\")\n",
    "\n",
    "result = greet()\n",
    "print(result)\n",
    "#output None\n",
    "| Function Behavior        | Return Value            |\n",
    "| ------------------------ | ----------------------- |\n",
    "| Has a `return` statement | Returns specified value |\n",
    "| No `return` statement    | Returns `None`          |"
   ]
  },
  {
   "cell_type": "markdown",
   "id": "8747bc1c-f16a-4641-a0f8-32585a9454c3",
   "metadata": {},
   "source": [
    "9. How do you make a function variable refer to the global variable?"
   ]
  },
  {
   "cell_type": "code",
   "execution_count": null,
   "id": "6534bdb8-0ffb-459c-8937-fc678ca8007f",
   "metadata": {},
   "outputs": [],
   "source": [
    "To refer to a global variable inside a function, you use the global keyword.\n",
    "#Step-by-Step:\n",
    "#1. Define a global variable outside the function\n",
    "x = 10  # global variable\n",
    "#2. Use global keyword inside the function to access/modify the global variable\n",
    "def modify():\n",
    "    global x   # refers to the global x, not a local one\n",
    "    x = x + 5\n",
    "#3. Call the function and check the change\n",
    "modify()\n",
    "print(x)  # Output: 15\n",
    "#Without the global keyword, Python would treat x as a new local variable inside the function.\n",
    "\n",
    "#Example without global (Wrong way):\n",
    "x = 10\n",
    "def modify():\n",
    "    x = x + 5   # Error: UnboundLocalError\n",
    "\n",
    "modify()\n",
    "This will give an error because Python thinks x is a local variable but it's used before assignment."
   ]
  },
  {
   "cell_type": "markdown",
   "id": "c9d90076-06cc-4f4e-881f-5e72649be2c9",
   "metadata": {},
   "source": [
    "10. What is the data type of None?"
   ]
  },
  {
   "cell_type": "code",
   "execution_count": null,
   "id": "35a8e601-79f2-4695-9b5d-fe1960acc782",
   "metadata": {},
   "outputs": [],
   "source": [
    "The data type of None is NoneType in Python.\n",
    "x = None\n",
    "print(type(x))   # Output: <class 'NoneType'>"
   ]
  },
  {
   "cell_type": "markdown",
   "id": "d516975b-da09-4580-8791-051eac47bfd4",
   "metadata": {},
   "source": [
    "11. What does the sentence import areallyourpetsnamederic do?"
   ]
  },
  {
   "cell_type": "code",
   "execution_count": null,
   "id": "b082a621-62d8-42d7-a3b4-886fa71b6207",
   "metadata": {},
   "outputs": [],
   "source": [
    "The line import areallyourpetsnamederic tries to import a Python module named areallyourpetsnamederic."
   ]
  },
  {
   "cell_type": "markdown",
   "id": "080ab717-71c1-4351-9ddf-82389c76098f",
   "metadata": {},
   "source": [
    "12. If you had a bacon() feature in a spam module, what would you call it after importing spam?"
   ]
  },
  {
   "cell_type": "code",
   "execution_count": null,
   "id": "301d1c04-4e52-48de-afce-b86c5f750b62",
   "metadata": {},
   "outputs": [],
   "source": [
    "You would call it using:\n",
    "spam.bacon()\n",
    "Step-by-Step Explanation:\n",
    "You import the whole spam module:\n",
    "import spam\n",
    "#Then, to access any function inside that module (like bacon()), use dot notation:\n",
    "spam.bacon()  # Calls the bacon() function inside spam module\n",
    "#Alternative (Optional):\n",
    "If you want to directly access bacon() without prefixing spam., you can use:\n",
    "from spam import bacon\n",
    "bacon()  # Now you can call it directly"
   ]
  },
  {
   "cell_type": "markdown",
   "id": "310c2bd8-91f3-4c0a-a7e1-e9fdd820e9e5",
   "metadata": {},
   "source": [
    "13. What can you do to save a programme from crashing if it encounters an error?"
   ]
  },
  {
   "cell_type": "code",
   "execution_count": null,
   "id": "98fd1a1c-efae-4986-8747-1903a73a56ba",
   "metadata": {},
   "outputs": [],
   "source": [
    "Answer:\n",
    "You can use try and except blocks to handle errors and prevent the program from crashing.\n",
    "\n",
    "Step-by-Step:\n",
    "try block:\n",
    "\n",
    "Write the code that might cause an error.\n",
    "\n",
    "except block:\n",
    "\n",
    "Write the code to handle the error if it occurs.\n",
    "try:\n",
    "    num = int(input(\"Enter a number: \"))\n",
    "    print(10 / num)\n",
    "except ZeroDivisionError:\n",
    "    print(\"You can't divide by zero.\")\n",
    "except ValueError:\n",
    "    print(\"Please enter a valid number.\")\n",
    "🔹 If the user enters 0, it won’t crash.\n",
    "🔹 If the user enters \"abc\", it won’t crash.\n",
    "🔹 Program continues safely.\n",
    "\n",
    "You can also use finally (optional):\n",
    "It runs no matter what (whether error occurred or not).\n",
    "finally:\n",
    "    print(\"This always runs.\")"
   ]
  },
  {
   "cell_type": "markdown",
   "id": "ef5e4a9d-c98d-4dfb-b280-f5561cc064c1",
   "metadata": {},
   "source": [
    "14. What is the purpose of the try clause? What is the purpose of the except clause?"
   ]
  },
  {
   "cell_type": "code",
   "execution_count": null,
   "id": "44bccc9f-723f-4073-b3bb-1449b51f715b",
   "metadata": {},
   "outputs": [],
   "source": [
    "#Purpose of the try clause:\n",
    "The try clause contains the code that might cause an error.\n",
    "It tells Python: \"Try to run this code.\"\n",
    "If the code works fine ➤ it runs normally.\n",
    "If an error happens ➤ Python jumps to the except block.\n",
    "\n",
    "try:\n",
    "    x = int(input(\"Enter number: \"))\n",
    "    print(10 / x)  # risky code\n",
    "Purpose of the except clause:\n",
    "The except clause contains the code that runs when an error occurs in the try block.\n",
    "It handles the error and prevents the program from crashing.\n",
    "You can give custom error messages or take alternative actions.\n",
    "\n",
    "except ZeroDivisionError:\n",
    "    print(\"You can't divide by zero!\")\n",
    "except ValueError:\n",
    "    print(\"Enter a valid number.\")\n",
    "#Full Example:\n",
    "try:\n",
    "    num = int(input(\"Enter a number: \"))\n",
    "    result = 10 / num\n",
    "    print(\"Result:\", result)\n",
    "except ZeroDivisionError:\n",
    "    print(\"You can't divide by zero.\")\n",
    "except ValueError:\n",
    "    print(\"Invalid input. Please enter a number.\")\n",
    "| Clause   | Purpose in English             | उद्देश्य हिंदी में          |\n",
    "| -------- | ------------------------------ | --------------------------- |\n",
    "| `try`    | Code that might raise an error | \n",
    "| `except` | Handles the error if it occurs | \n"
   ]
  }
 ],
 "metadata": {
  "kernelspec": {
   "display_name": "Python 3 (ipykernel)",
   "language": "python",
   "name": "python3"
  },
  "language_info": {
   "codemirror_mode": {
    "name": "ipython",
    "version": 3
   },
   "file_extension": ".py",
   "mimetype": "text/x-python",
   "name": "python",
   "nbconvert_exporter": "python",
   "pygments_lexer": "ipython3",
   "version": "3.12.7"
  }
 },
 "nbformat": 4,
 "nbformat_minor": 5
}
